{
 "cells": [
  {
   "cell_type": "code",
   "execution_count": 1,
   "id": "a56afcdd",
   "metadata": {},
   "outputs": [
    {
     "name": "stderr",
     "output_type": "stream",
     "text": [
      "/Users/dmitrij/PycharmProjects/itmo_algorithms/.venv/lib/python3.8/site-packages/pandas/compat/__init__.py:124: UserWarning: Could not import the lzma module. Your installed Python is incomplete. Attempting to use lzma compression will result in a RuntimeError.\n",
      "  warnings.warn(msg)\n"
     ]
    }
   ],
   "source": [
    "import pandas as pd"
   ]
  },
  {
   "cell_type": "code",
   "execution_count": 2,
   "id": "2f202aaf",
   "metadata": {},
   "outputs": [],
   "source": [
    "msg = pd.read_csv(\n",
    "    '/Users/dmitrij/Downloads/CollegeMsg.txt', \n",
    "    delimiter=' ', \n",
    "    names=['source', 'target', 'unixts']\n",
    ")\n",
    "msg[['source', 'target']].to_csv('messages.csv', index=False)"
   ]
  }
 ],
 "metadata": {
  "kernelspec": {
   "display_name": "Python 3 (ipykernel)",
   "language": "python",
   "name": "python3"
  },
  "language_info": {
   "codemirror_mode": {
    "name": "ipython",
    "version": 3
   },
   "file_extension": ".py",
   "mimetype": "text/x-python",
   "name": "python",
   "nbconvert_exporter": "python",
   "pygments_lexer": "ipython3",
   "version": "3.8.5"
  }
 },
 "nbformat": 4,
 "nbformat_minor": 5
}